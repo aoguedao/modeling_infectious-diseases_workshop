{
 "cells": [
  {
   "cell_type": "markdown",
   "metadata": {},
   "source": [
    "# Diseases Informed Neural Networks"
   ]
  },
  {
   "cell_type": "markdown",
   "metadata": {},
   "source": [
    "## Motivation"
   ]
  },
  {
   "cell_type": "markdown",
   "metadata": {},
   "source": [
    "For years mathematicians and physicists are trying to model the world with differential equations. However, since the advent of techniques such as machine learning, neural networks and deep learning together with greater computing power, community has speculated that we could learn automatically (algorithms) anything with a enough amount of data. However, it seems this is not really true.\n",
    "\n",
    "Philosophical Question: Could have a _machine_ discovered Newton's laws?"
   ]
  },
  {
   "cell_type": "markdown",
   "metadata": {},
   "source": [
    "__Idea__\n",
    "\n",
    "PINNs approximate PDE solutions by training a neural network to minimize a loss function, including:\n",
    "\n",
    "* Initial and boundary conditions along the space-time domain’s boundary\n",
    "* PDE residual at selected points in the domain.\n",
    "\n",
    "If you want to do a simplified analogy, initial and boundary conditions points will be an usual training dataset, but also it is necessary to embed physical laws (PDE) into the neural network."
   ]
  },
  {
   "cell_type": "markdown",
   "metadata": {},
   "source": [
    "__Remark:__ If you running this notebook on Google Colab you need to:\n",
    "1. Install `DeepXDE`.\n",
    "2. Enable GPU manually. Go to `Menu > Runtime > Change Runtime` and change hardware accelaration to `GPU`."
   ]
  },
  {
   "cell_type": "code",
   "execution_count": null,
   "metadata": {},
   "outputs": [],
   "source": [
    "# Run the following line if you want to install DeepXDE on Google Colab\n",
    "!pip install deepxde"
   ]
  },
  {
   "cell_type": "code",
   "execution_count": 1,
   "metadata": {},
   "outputs": [
    {
     "name": "stderr",
     "output_type": "stream",
     "text": [
      "Using backend: tensorflow.compat.v1\n",
      "\n"
     ]
    },
    {
     "name": "stdout",
     "output_type": "stream",
     "text": [
      "WARNING:tensorflow:From /home/aoguedao/mambaforge/envs/pinn/lib/python3.9/site-packages/tensorflow/python/compat/v2_compat.py:107: disable_resource_variables (from tensorflow.python.ops.variable_scope) is deprecated and will be removed in a future version.\n",
      "Instructions for updating:\n",
      "non-resource variables are not supported in the long term\n"
     ]
    },
    {
     "name": "stderr",
     "output_type": "stream",
     "text": [
      "2022-10-25 15:50:20.137228: I tensorflow/stream_executor/cuda/cuda_gpu_executor.cc:961] could not open file to read NUMA node: /sys/bus/pci/devices/0000:01:00.0/numa_node\n",
      "Your kernel may have been built without NUMA support.\n",
      "2022-10-25 15:50:20.229533: I tensorflow/stream_executor/cuda/cuda_gpu_executor.cc:961] could not open file to read NUMA node: /sys/bus/pci/devices/0000:01:00.0/numa_node\n",
      "Your kernel may have been built without NUMA support.\n",
      "2022-10-25 15:50:20.229907: I tensorflow/stream_executor/cuda/cuda_gpu_executor.cc:961] could not open file to read NUMA node: /sys/bus/pci/devices/0000:01:00.0/numa_node\n",
      "Your kernel may have been built without NUMA support.\n"
     ]
    },
    {
     "name": "stdout",
     "output_type": "stream",
     "text": [
      "Enable just-in-time compilation with XLA.\n",
      "\n",
      "WARNING:tensorflow:From /home/aoguedao/mambaforge/envs/pinn/lib/python3.9/site-packages/deepxde/nn/initializers.py:118: The name tf.keras.initializers.he_normal is deprecated. Please use tf.compat.v1.keras.initializers.he_normal instead.\n",
      "\n"
     ]
    }
   ],
   "source": [
    "import numpy as np\n",
    "import pandas as pd\n",
    "import matplotlib.pyplot as plt \n",
    "import deepxde as dde\n",
    "import seaborn as sns\n",
    "\n",
    "from deepxde.backend import tf\n",
    "from scipy.integrate import odeint\n",
    "\n",
    "sns.set_theme(style=\"whitegrid\")\n",
    "\n",
    "%matplotlib inline"
   ]
  },
  {
   "cell_type": "markdown",
   "metadata": {},
   "source": [
    "## Setup"
   ]
  },
  {
   "cell_type": "markdown",
   "metadata": {},
   "source": [
    "PINNs can solve differential equations expressed, in the most general form, like:\n",
    "\n",
    "$$\n",
    "\\begin{align*}\n",
    "\\mathcal{F}(u(z); \\lambda) &= f(z) \\quad z \\text{ in } \\Omega \\\\\n",
    "\\mathcal{B}(u(z)) &= g(z) \\quad z \\text{ in } \\partial \\Omega\n",
    "\\end{align*}\n",
    "$$ \n",
    "\n",
    "defined on the domain $\\Omega \\subset \\mathbb{R}^d$ with the boundary $\\partial \\Omega$. Where\n",
    "- $z := (x_1, x_2, \\ldots, t)^\\top$ indicated the space-time coordinate vector,\n",
    "- $u$ the unknown function,\n",
    "- $\\lambda$ the parameters related to the physics,\n",
    "- $\\mathcal{F}$ the non-linear differential operator,\n",
    "- $f$ the function identifying the data of the problem,\n",
    "- $\\mathcal{B}$ the operator indicating arbitrary initial or boundary conditions, and\n",
    "- $g$ the boundary function.\n",
    "\n",
    "In the PINN methodology, $u(z)$ is computationally predicted by a NN, parametrized by a set of parameters $\\theta$, giving rise to an approximation\n",
    "$$\n",
    "\\hat{u}_\\theta(z) \\approx u(z)\n",
    "$$\n",
    "\n",
    "The optimization problem we want to deal with it is\n",
    "\n",
    "$$\n",
    "\\min_\\theta \\; \\omega_\\mathcal{F} \\mathcal{L}_\\mathcal{F}(\\theta) + \\omega_\\mathcal{B} \\mathcal{L}_\\mathcal{B}(\\theta) + \\omega_{\\text{data}} \\mathcal{L}_{\\text{data}}(\\theta)\n",
    "$$\n",
    "\n",
    "this is three weighted loss functions, each one depending on\n",
    "- $\\mathcal{L}_\\mathcal{F}$, differential equation, \n",
    "- $\\mathcal{L}_\\mathcal{B}$, boundary conditions, and\n",
    "- $\\mathcal{L}_{\\text{data}}$, (eventually) some known data.\n",
    "\n",
    "![PINNs](../images/info_pinn.png)\n",
    "\n",
    "[Source](https://link.springer.com/article/10.1007/s10915-022-01939-z)"
   ]
  },
  {
   "cell_type": "markdown",
   "metadata": {},
   "source": [
    "## Implementation: DeepXDE"
   ]
  },
  {
   "cell_type": "markdown",
   "metadata": {},
   "source": [
    "DeepXDE is a library for scientific machine learning and physics-informed learning. It support several tensor libraries as backend (TensorFlow, PyTorch, JAX, among other). \n",
    "\n",
    "One of its main features is that enables the user code to be compact, resembling closely the mathematical formulation. We don't have to worry much about the technical aspect of the code, but rather about the mathematical model.\n",
    "\n",
    "![DeepXDE](../images/pinn.webp)\n",
    "\n",
    "[Source](https://deepxde.readthedocs.io/en/latest/)"
   ]
  },
  {
   "cell_type": "markdown",
   "id": "045406f9-6db4-4582-9713-b48af75cd7a4",
   "metadata": {},
   "source": [
    "## Model"
   ]
  },
  {
   "cell_type": "markdown",
   "id": "5fd20610-dcab-4c9b-9b74-de320377250a",
   "metadata": {
    "id": "5fd20610-dcab-4c9b-9b74-de320377250a"
   },
   "source": [
    "$$\n",
    "\\begin{aligned}\n",
    "\\frac{dS}{dt} &= - \\frac{\\beta}{N}  S I \\\\\n",
    "\\frac{dI}{dt} &= \\frac{\\beta}{N} S I - \\omega  I - \\gamma I \\\\\n",
    "\\frac{dR}{dt} &= \\omega I \\\\\n",
    "\\frac{dD}{dt} &= \\gamma I \\\\\n",
    "\\end{aligned}\n",
    "$$"
   ]
  },
  {
   "cell_type": "markdown",
   "id": "EIILS9Kso7nM",
   "metadata": {
    "id": "EIILS9Kso7nM"
   },
   "source": [
    "- Susceptible (S): Individuals who have not been infected with COVID-19 and have not isolated themselves from the population\n",
    "- Infected (I): Infectious individuals with COVID-19\n",
    "- Recovered (R): Individuals who survived COVID-19\n",
    "- Dead (D): Individuals who did not survive COVID-19"
   ]
  },
  {
   "cell_type": "markdown",
   "id": "6ec3fe1e-d3b0-4075-a6a3-89716367d887",
   "metadata": {
    "id": "6ec3fe1e-d3b0-4075-a6a3-89716367d887"
   },
   "source": [
    "- $\\beta$: Transmission Rate\n",
    "- $\\omega$: Rate at which Infected individuals become Recovered\n",
    "- $\\gamma$: Rate at which Infected individuals become Dead"
   ]
  },
  {
   "cell_type": "markdown",
   "id": "c9509f26-0090-4869-bc1a-d8f2da9236af",
   "metadata": {
    "id": "c9509f26-0090-4869-bc1a-d8f2da9236af",
    "tags": []
   },
   "source": [
    "## Initial Conditions"
   ]
  },
  {
   "cell_type": "code",
   "execution_count": 2,
   "id": "9c5d92b8-33f0-4fb0-a0ee-018e1131d31c",
   "metadata": {
    "id": "9c5d92b8-33f0-4fb0-a0ee-018e1131d31c"
   },
   "outputs": [],
   "source": [
    "N = 1e6\n",
    "beta = 0.5\n",
    "omega = 1 / 14\n",
    "gamma = 1 / 5\n",
    "parameters_real = [beta, omega, gamma]\n",
    "\n",
    "t = np.arange(0, 366, 7)[:, np.newaxis]"
   ]
  },
  {
   "cell_type": "markdown",
   "id": "e064a354-360d-41e6-bb33-9e92682f0029",
   "metadata": {
    "id": "e064a354-360d-41e6-bb33-9e92682f0029"
   },
   "source": [
    "## Generate Data"
   ]
  },
  {
   "cell_type": "code",
   "execution_count": 3,
   "id": "12b2ca3f-c763-4e2d-b93c-56e08f3ec3d7",
   "metadata": {
    "id": "12b2ca3f-c763-4e2d-b93c-56e08f3ec3d7"
   },
   "outputs": [],
   "source": [
    "def sird_model(\n",
    "    t,\n",
    "    N,\n",
    "    beta,\n",
    "    omega,\n",
    "    gamma,\n",
    "):\n",
    "    def func(y, t):\n",
    "        S, I, R, D = y\n",
    "        dS = - beta / N * S * I\n",
    "        dI = beta / N * S * I - gamma * I - omega * I\n",
    "        dR = gamma * I\n",
    "        dD =  omega * I\n",
    "        return [dS, dI, dR, dD]\n",
    "    \n",
    "    S_0 = N - 1\n",
    "    I_0 = 1\n",
    "    R_0 = 0\n",
    "    D_0 = 0\n",
    "    y0 = [S_0, I_0, R_0, D_0]\n",
    "    return odeint(func, y0, t)"
   ]
  },
  {
   "cell_type": "code",
   "execution_count": 4,
   "id": "52e619a9-f058-4409-a7d4-33f893d00612",
   "metadata": {
    "id": "52e619a9-f058-4409-a7d4-33f893d00612"
   },
   "outputs": [],
   "source": [
    "y = sird_model(np.ravel(t), N, beta, omega,  gamma)\n",
    "y_noise1 = y + np.random.normal(loc=0, scale=y.std(axis=0), size=y.shape) * 0.01\n",
    "y_noise5 = y + np.random.normal(loc=0, scale=y.std(axis=0), size=y.shape) * 0.05\n",
    "y_noise10 = y + np.random.normal(loc=0, scale=y.std(axis=0), size=y.shape) * 0.1"
   ]
  },
  {
   "cell_type": "code",
   "execution_count": 5,
   "id": "106faf6e-bc89-4d3b-b250-caacda49d6f9",
   "metadata": {},
   "outputs": [],
   "source": [
    "names = list(\"SIRD\")\n",
    "data_real = (\n",
    "    pd.DataFrame(y, columns=names, index=t.ravel())\n",
    "    .rename_axis(\"time\")\n",
    "    .reset_index()\n",
    "    .melt(id_vars=\"time\", var_name=\"status\", value_name=\"population\")\n",
    ")"
   ]
  },
  {
   "cell_type": "code",
   "execution_count": 6,
   "id": "6777bd81-1fbd-47a6-90ba-2f752ce90ae2",
   "metadata": {},
   "outputs": [
    {
     "data": {
      "image/png": "[encoded data removed]",
      "text/plain": [
       "<Figure size 768.1x360 with 1 Axes>"
      ]
     },
     "metadata": {},
     "output_type": "display_data"
    }
   ],
   "source": [
    "sns.set(rc={\"figure.facecolor\":\"white\"})\n",
    "g = sns.relplot(data=data_real, x=\"time\", y=\"population\", hue=\"status\", aspect=2)\n",
    "g.set_axis_labels(\"Time\", \"Population\")\n",
    "g._legend.set_title(\"Status\")\n",
    "g.tight_layout(w_pad=1)\n",
    "g.fig.subplots_adjust(top=0.9)\n",
    "g.fig.suptitle(f\"SIRD real data\")\n",
    "# plt.savefig(\"SIRD_real.png\", dpi=300)\n",
    "plt.show()"
   ]
  },
  {
   "cell_type": "markdown",
   "id": "e37850d8-a3da-418f-bd40-617bf10675f0",
   "metadata": {},
   "source": [
    "## DINN"
   ]
  },
  {
   "cell_type": "code",
   "execution_count": 7,
   "id": "83c3a008-0075-4b00-9855-78863db0f288",
   "metadata": {
    "id": "83c3a008-0075-4b00-9855-78863db0f288"
   },
   "outputs": [],
   "source": [
    "def dinn(data_t, data_y, N):    \n",
    "    \n",
    "    # Variables\n",
    "    beta = tf.math.sigmoid(dde.Variable(0.1))\n",
    "    omega = tf.math.sigmoid(dde.Variable(0.1))\n",
    "    gamma = tf.math.sigmoid(dde.Variable(0.1))\n",
    "    variable_list = [beta, omega, gamma]\n",
    "    \n",
    "    # ODE model\n",
    "    def ODE(t, y):\n",
    "        S = y[:, 0:1]\n",
    "        I = y[:, 1:2]\n",
    "        R = y[:, 2:3]\n",
    "        D = y[:, 3:4]\n",
    "        \n",
    "        dS_t = dde.grad.jacobian(y, t, i=0)\n",
    "        dI_t = dde.grad.jacobian(y, t, i=1)\n",
    "        dR_t = dde.grad.jacobian(y, t, i=2)\n",
    "        dD_t = dde.grad.jacobian(y, t, i=3)\n",
    "\n",
    "        return [\n",
    "            dS_t - (- beta / N * S * I),\n",
    "            dI_t - (beta / N * S * I - gamma * I - omega * I),\n",
    "            dR_t - (gamma * I),\n",
    "            dD_t - (omega * I)\n",
    "        ]\n",
    "    \n",
    "    # Geometry\n",
    "    geom = dde.geometry.TimeDomain(data_t[0, 0], data_t[-1, 0])\n",
    "    \n",
    "    # Boundaries\n",
    "    def boundary(_, on_initial):\n",
    "        return on_initial\n",
    "    \n",
    "    # Initial conditions\n",
    "    ic_S = dde.icbc.IC(geom, lambda x: N- 1, boundary, component=0)\n",
    "    ic_I = dde.icbc.IC(geom, lambda x: 1, boundary, component=1)\n",
    "    ic_R = dde.icbc.IC(geom, lambda x: 0, boundary, component=2)\n",
    "    ic_D = dde.icbc.IC(geom, lambda x: 0, boundary, component=3)\n",
    "\n",
    "    # Train data\n",
    "    observe_S = dde.icbc.PointSetBC(data_t, data_y[:, 0:1], component=0)\n",
    "    observe_I = dde.icbc.PointSetBC(data_t, data_y[:, 1:2], component=1)\n",
    "    observe_R = dde.icbc.PointSetBC(data_t, data_y[:, 2:3], component=2)\n",
    "    observe_D = dde.icbc.PointSetBC(data_t, data_y[:, 3:4], component=3)\n",
    "    \n",
    "    # Model\n",
    "    data = dde.data.PDE(\n",
    "        geom,\n",
    "        ODE,\n",
    "        [\n",
    "            ic_S,\n",
    "            ic_I,\n",
    "            ic_R,\n",
    "            ic_D,\n",
    "            observe_S,\n",
    "            observe_I,\n",
    "            observe_R,\n",
    "            observe_D\n",
    "        ],\n",
    "        num_domain=400,\n",
    "        num_boundary=2,\n",
    "        anchors=data_t,\n",
    "    )\n",
    "    \n",
    "    net = dde.nn.FNN([1] + [128] * 3 + [4], \"relu\", \"Glorot uniform\")\n",
    "    \n",
    "    def feature_transform(t):\n",
    "        t = t / data_t[-1, 0]\n",
    "        return t\n",
    "\n",
    "    net.apply_feature_transform(feature_transform)\n",
    "\n",
    "    iterations = 50000\n",
    "    model = dde.Model(data, net)\n",
    "    model.compile(\n",
    "        \"adam\",\n",
    "        lr=1e-3,\n",
    "        loss_weights=4 * [1] + 4 * [1] + 4 * [1e1],\n",
    "        external_trainable_variables=variable_list\n",
    "    )\n",
    "    variable = dde.callbacks.VariableValue(\n",
    "        variable_list,\n",
    "        period=5000,\n",
    "        # filename=\"variables_sird.dat\"\n",
    "    )\n",
    "    losshistory, train_state = model.train(\n",
    "        iterations=iterations,\n",
    "        display_every=10000,\n",
    "        callbacks=[variable]\n",
    "      )\n",
    "    # dde.saveplot(losshistory, train_state, issave=True, isplot=True)\n",
    "    return model, variable"
   ]
  },
  {
   "cell_type": "code",
   "execution_count": 8,
   "id": "7b764e39-70be-415e-b7e5-f67911aff786",
   "metadata": {
    "colab": {
     "base_uri": "https://localhost:8080/",
     "height": 1000
    },
    "id": "7b764e39-70be-415e-b7e5-f67911aff786",
    "outputId": "e9ca6b6d-12f6-470b-a2d9-88513829e844",
    "tags": []
   },
   "outputs": [
    {
     "name": "stdout",
     "output_type": "stream",
     "text": [
      "Compiling model...\n",
      "Warning: For the backend tensorflow.compat.v1, `external_trainable_variables` is ignored, and all trainable ``tf.Variable`` objects are automatically collected.\n",
      "Building feed-forward neural network...\n",
      "'build' took 0.043700 s\n",
      "\n"
     ]
    },
    {
     "name": "stderr",
     "output_type": "stream",
     "text": [
      "/home/aoguedao/mambaforge/envs/pinn/lib/python3.9/site-packages/skopt/sampler/sobol.py:246: UserWarning: The balance properties of Sobol' points require n to be a power of 2. 0 points have been previously generated, then: n=0+402=402. \n",
      "  warnings.warn(\"The balance properties of Sobol' points require \"\n",
      "/home/aoguedao/mambaforge/envs/pinn/lib/python3.9/site-packages/deepxde/nn/tensorflow_compat_v1/fnn.py:103: UserWarning: `tf.layers.dense` is deprecated and will be removed in a future version. Please use `tf.keras.layers.Dense` instead.\n",
      "  return tf.layers.dense(\n",
      "2022-10-25 15:50:21.906124: I tensorflow/core/platform/cpu_feature_guard.cc:193] This TensorFlow binary is optimized with oneAPI Deep Neural Network Library (oneDNN) to use the following CPU instructions in performance-critical operations:  AVX2 FMA\n",
      "To enable them in other operations, rebuild TensorFlow with the appropriate compiler flags.\n",
      "2022-10-25 15:50:21.909066: I tensorflow/stream_executor/cuda/cuda_gpu_executor.cc:961] could not open file to read NUMA node: /sys/bus/pci/devices/0000:01:00.0/numa_node\n",
      "Your kernel may have been built without NUMA support.\n",
      "2022-10-25 15:50:21.909430: I tensorflow/stream_executor/cuda/cuda_gpu_executor.cc:961] could not open file to read NUMA node: /sys/bus/pci/devices/0000:01:00.0/numa_node\n",
      "Your kernel may have been built without NUMA support.\n",
      "2022-10-25 15:50:21.909723: I tensorflow/stream_executor/cuda/cuda_gpu_executor.cc:961] could not open file to read NUMA node: /sys/bus/pci/devices/0000:01:00.0/numa_node\n",
      "Your kernel may have been built without NUMA support.\n",
      "2022-10-25 15:50:23.327448: I tensorflow/stream_executor/cuda/cuda_gpu_executor.cc:961] could not open file to read NUMA node: /sys/bus/pci/devices/0000:01:00.0/numa_node\n",
      "Your kernel may have been built without NUMA support.\n",
      "2022-10-25 15:50:23.327907: I tensorflow/stream_executor/cuda/cuda_gpu_executor.cc:961] could not open file to read NUMA node: /sys/bus/pci/devices/0000:01:00.0/numa_node\n",
      "Your kernel may have been built without NUMA support.\n",
      "2022-10-25 15:50:23.327931: I tensorflow/core/common_runtime/gpu/gpu_device.cc:1616] Could not identify NUMA node of platform GPU id 0, defaulting to 0.  Your kernel may not have been built with NUMA support.\n",
      "2022-10-25 15:50:23.328334: I tensorflow/stream_executor/cuda/cuda_gpu_executor.cc:961] could not open file to read NUMA node: /sys/bus/pci/devices/0000:01:00.0/numa_node\n",
      "Your kernel may have been built without NUMA support.\n",
      "2022-10-25 15:50:23.328387: W tensorflow/core/common_runtime/gpu/gpu_bfc_allocator.cc:42] Overriding orig_value setting because the TF_FORCE_GPU_ALLOW_GROWTH environment variable is set. Original config value was 0.\n",
      "2022-10-25 15:50:23.328427: I tensorflow/core/common_runtime/gpu/gpu_device.cc:1532] Created device /job:localhost/replica:0/task:0/device:GPU:0 with 5440 MB memory:  -> device: 0, name: NVIDIA GeForce RTX 3070 Laptop GPU, pci bus id: 0000:01:00.0, compute capability: 8.6\n"
     ]
    },
    {
     "name": "stdout",
     "output_type": "stream",
     "text": [
      "'compile' took 2.162468 s\n",
      "\n",
      "Initializing variables...\n"
     ]
    },
    {
     "name": "stderr",
     "output_type": "stream",
     "text": [
      "2022-10-25 15:50:24.041435: I tensorflow/compiler/mlir/mlir_graph_optimization_pass.cc:354] MLIR V1 optimization pass is not enabled\n",
      "2022-10-25 15:50:24.685769: I tensorflow/compiler/xla/service/service.cc:170] XLA service 0x7fd0f40104d0 initialized for platform CUDA (this does not guarantee that XLA will be used). Devices:\n",
      "2022-10-25 15:50:24.685808: I tensorflow/compiler/xla/service/service.cc:178]   StreamExecutor device (0): NVIDIA GeForce RTX 3070 Laptop GPU, Compute Capability 8.6\n",
      "2022-10-25 15:50:24.871130: I tensorflow/core/platform/default/subprocess.cc:304] Start cannot spawn child process: No such file or directory\n",
      "2022-10-25 15:50:24.942594: I tensorflow/compiler/jit/xla_compilation_cache.cc:478] Compiled cluster using XLA!  This line is logged at most once for the lifetime of the process.\n",
      "2022-10-25 15:50:25.030495: I tensorflow/compiler/mlir/tensorflow/utils/dump_mlir_util.cc:263] disabling MLIR crash reproducer, set env var `MLIR_CRASH_REPRODUCER_DIRECTORY` to enable.\n"
     ]
    },
    {
     "name": "stdout",
     "output_type": "stream",
     "text": [
      "Training model...\n",
      "\n",
      "Step      Train loss                                                                                                                  Test loss                                                                                                                   Test metric\n",
      "0         [3.93e-08, 1.06e-03, 2.65e-04, 2.65e-04, 1.00e+12, 1.00e+00, 0.00e+00, 0.00e+00, 2.09e+12, 6.18e+09, 2.46e+12, 3.14e+11]    [3.93e-08, 1.06e-03, 2.65e-04, 2.65e-04, 1.00e+12, 1.00e+00, 0.00e+00, 0.00e+00, 2.09e+12, 6.18e+09, 2.46e+12, 3.14e+11]    []  \n",
      "0 [5.25e-01, 5.25e-01, 5.25e-01]\n",
      "5000 [1.74e-01, 5.96e-02, 5.64e-02]\n",
      "10000     [8.56e+02, 3.36e+02, 9.83e+04, 3.94e+04, 2.67e+11, 5.99e+07, 1.92e+11, 2.44e+10, 6.45e+11, 5.57e+09, 4.91e+11, 6.26e+10]    [8.56e+02, 3.36e+02, 9.83e+04, 3.94e+04, 2.67e+11, 5.99e+07, 1.92e+11, 2.44e+10, 6.45e+11, 5.57e+09, 4.91e+11, 6.26e+10]    []  \n",
      "10000 [7.28e-02, 1.72e-02, 1.37e-02]\n",
      "15000 [5.28e-01, 8.83e-02, 2.67e-01]\n",
      "20000     [7.89e+06, 1.56e+06, 2.67e+06, 5.64e+05, 1.59e+07, 1.52e+06, 1.38e+06, 5.15e+04, 9.37e+08, 1.13e+09, 3.00e+08, 2.79e+07]    [7.89e+06, 1.56e+06, 2.67e+06, 5.64e+05, 1.59e+07, 1.52e+06, 1.38e+06, 5.15e+04, 9.37e+08, 1.13e+09, 3.00e+08, 2.79e+07]    []  \n",
      "20000 [4.51e-01, 7.34e-02, 2.32e-01]\n",
      "25000 [4.93e-01, 7.10e-02, 1.97e-01]\n",
      "30000     [8.04e+05, 1.48e+05, 4.01e+05, 8.99e+04, 1.91e-01, 1.92e+03, 1.70e+02, 2.25e+00, 3.31e+05, 1.88e+05, 1.59e+05, 3.47e+04]    [8.04e+05, 1.48e+05, 4.01e+05, 8.99e+04, 1.91e-01, 1.92e+03, 1.70e+02, 2.25e+00, 3.31e+05, 1.88e+05, 1.59e+05, 3.47e+04]    []  \n",
      "30000 [5.05e-01, 7.26e-02, 2.00e-01]\n",
      "35000 [5.05e-01, 7.29e-02, 2.02e-01]\n",
      "40000     [7.93e+05, 1.52e+05, 3.10e+05, 7.12e+04, 4.28e+03, 3.80e-01, 2.16e-02, 1.23e+00, 1.25e+05, 3.75e+04, 4.22e+04, 1.13e+04]    [7.93e+05, 1.52e+05, 3.10e+05, 7.12e+04, 4.28e+03, 3.80e-01, 2.16e-02, 1.23e+00, 1.25e+05, 3.75e+04, 4.22e+04, 1.13e+04]    []  \n",
      "40000 [5.08e-01, 7.30e-02, 2.02e-01]\n",
      "45000 [5.06e-01, 7.25e-02, 2.01e-01]\n",
      "50000     [7.18e+05, 1.43e+05, 2.74e+05, 6.34e+04, 9.60e+03, 8.78e+02, 3.03e+02, 1.10e+02, 1.36e+05, 3.25e+04, 4.73e+04, 1.02e+04]    [7.18e+05, 1.43e+05, 2.74e+05, 6.34e+04, 9.60e+03, 8.78e+02, 3.03e+02, 1.10e+02, 1.36e+05, 3.25e+04, 4.73e+04, 1.02e+04]    []  \n",
      "50000 [5.01e-01, 7.20e-02, 2.00e-01]\n",
      "\n",
      "Best model at step 50000:\n",
      "  train loss: 1.44e+06\n",
      "  test loss: 1.44e+06\n",
      "  test metric: []\n",
      "\n",
      "'train' took 125.285692 s\n",
      "\n"
     ]
    }
   ],
   "source": [
    "model, variable = dinn(t, y, N)"
   ]
  },
  {
   "cell_type": "markdown",
   "id": "1vUUL-GgpmwZ",
   "metadata": {
    "id": "1vUUL-GgpmwZ"
   },
   "source": [
    "## Postprocessing"
   ]
  },
  {
   "cell_type": "code",
   "execution_count": 9,
   "id": "ZbQqeFFLpqke",
   "metadata": {
    "id": "ZbQqeFFLpqke"
   },
   "outputs": [
    {
     "data": {
      "text/html": [
       "<div>\n",
       "<style scoped>\n",
       "    .dataframe tbody tr th:only-of-type {\n",
       "        vertical-align: middle;\n",
       "    }\n",
       "\n",
       "    .dataframe tbody tr th {\n",
       "        vertical-align: top;\n",
       "    }\n",
       "\n",
       "    .dataframe thead th {\n",
       "        text-align: right;\n",
       "    }\n",
       "</style>\n",
       "<table border=\"1\" class=\"dataframe\">\n",
       "  <thead>\n",
       "    <tr style=\"text-align: right;\">\n",
       "      <th></th>\n",
       "      <th>real</th>\n",
       "      <th>predicted</th>\n",
       "      <th>relative_error</th>\n",
       "    </tr>\n",
       "  </thead>\n",
       "  <tbody>\n",
       "    <tr>\n",
       "      <th>beta</th>\n",
       "      <td>0.500000</td>\n",
       "      <td>0.501169</td>\n",
       "      <td>0.233757</td>\n",
       "    </tr>\n",
       "    <tr>\n",
       "      <th>omega</th>\n",
       "      <td>0.071429</td>\n",
       "      <td>0.072030</td>\n",
       "      <td>0.841969</td>\n",
       "    </tr>\n",
       "    <tr>\n",
       "      <th>gamma</th>\n",
       "      <td>0.200000</td>\n",
       "      <td>0.200175</td>\n",
       "      <td>0.087471</td>\n",
       "    </tr>\n",
       "  </tbody>\n",
       "</table>\n",
       "</div>"
      ],
      "text/plain": [
       "           real  predicted  relative_error\n",
       "beta   0.500000   0.501169        0.233757\n",
       "omega  0.071429   0.072030        0.841969\n",
       "gamma  0.200000   0.200175        0.087471"
      ]
     },
     "execution_count": 9,
     "metadata": {},
     "output_type": "execute_result"
    }
   ],
   "source": [
    "parameter_names = [\n",
    "  \"beta\",\n",
    "  \"omega\",\n",
    "  \"gamma\",\n",
    "]\n",
    "errors = (\n",
    "    pd.DataFrame(\n",
    "        {\n",
    "            \"real\": parameters_real,\n",
    "            \"predicted\": variable.value\n",
    "        },\n",
    "        index=parameter_names\n",
    "    )\n",
    "    .assign(\n",
    "        relative_error=lambda x: (x[\"real\"] - x[\"predicted\"]).abs() / x[\"real\"] * 100\n",
    "    )\n",
    ")\n",
    "# errors.to_excel(\"SIRD_errors.xlsx\")\n",
    "errors"
   ]
  },
  {
   "cell_type": "code",
   "execution_count": 10,
   "id": "GxFbhFVwp2ci",
   "metadata": {
    "id": "GxFbhFVwp2ci"
   },
   "outputs": [
    {
     "data": {
      "text/html": [
       "<div>\n",
       "<style scoped>\n",
       "    .dataframe tbody tr th:only-of-type {\n",
       "        vertical-align: middle;\n",
       "    }\n",
       "\n",
       "    .dataframe tbody tr th {\n",
       "        vertical-align: top;\n",
       "    }\n",
       "\n",
       "    .dataframe thead th {\n",
       "        text-align: right;\n",
       "    }\n",
       "</style>\n",
       "<table border=\"1\" class=\"dataframe\">\n",
       "  <thead>\n",
       "    <tr style=\"text-align: right;\">\n",
       "      <th></th>\n",
       "      <th>time</th>\n",
       "      <th>status</th>\n",
       "      <th>population</th>\n",
       "    </tr>\n",
       "  </thead>\n",
       "  <tbody>\n",
       "    <tr>\n",
       "      <th>0</th>\n",
       "      <td>0</td>\n",
       "      <td>S</td>\n",
       "      <td>1.000108e+06</td>\n",
       "    </tr>\n",
       "    <tr>\n",
       "      <th>1</th>\n",
       "      <td>1</td>\n",
       "      <td>S</td>\n",
       "      <td>1.000086e+06</td>\n",
       "    </tr>\n",
       "    <tr>\n",
       "      <th>2</th>\n",
       "      <td>2</td>\n",
       "      <td>S</td>\n",
       "      <td>1.000049e+06</td>\n",
       "    </tr>\n",
       "    <tr>\n",
       "      <th>3</th>\n",
       "      <td>3</td>\n",
       "      <td>S</td>\n",
       "      <td>1.000144e+06</td>\n",
       "    </tr>\n",
       "    <tr>\n",
       "      <th>4</th>\n",
       "      <td>4</td>\n",
       "      <td>S</td>\n",
       "      <td>1.000216e+06</td>\n",
       "    </tr>\n",
       "  </tbody>\n",
       "</table>\n",
       "</div>"
      ],
      "text/plain": [
       "   time status    population\n",
       "0     0      S  1.000108e+06\n",
       "1     1      S  1.000086e+06\n",
       "2     2      S  1.000049e+06\n",
       "3     3      S  1.000144e+06\n",
       "4     4      S  1.000216e+06"
      ]
     },
     "execution_count": 10,
     "metadata": {},
     "output_type": "execute_result"
    }
   ],
   "source": [
    "full_t = np.arange(0, 366)[:, np.newaxis]\n",
    "y_pred = model.predict(full_t)\n",
    "data_pred = (\n",
    "    pd.DataFrame(y_pred, columns=names, index=full_t.ravel())\n",
    "    .rename_axis(\"time\")\n",
    "    .reset_index()\n",
    "    .melt(id_vars=\"time\", var_name=\"status\", value_name=\"population\")\n",
    ")\n",
    "data_pred.head()"
   ]
  },
  {
   "cell_type": "code",
   "execution_count": 11,
   "id": "36Aeb9dZp5sg",
   "metadata": {
    "colab": {
     "base_uri": "https://localhost:8080/",
     "height": 308
    },
    "id": "36Aeb9dZp5sg",
    "outputId": "294b006d-6ff3-4791-bf9b-000b9377fedd"
   },
   "outputs": [
    {
     "data": {
      "image/png": "[encoded data removed]",
      "text/plain": [
       "<Figure size 768.1x360 with 1 Axes>"
      ]
     },
     "metadata": {},
     "output_type": "display_data"
    }
   ],
   "source": [
    "sns.set(rc={\"figure.facecolor\":\"white\"})\n",
    "\n",
    "g = sns.relplot(\n",
    "    data=data_pred,\n",
    "    x=\"time\",\n",
    "    y=\"population\",\n",
    "    hue=\"status\",\n",
    "    kind=\"line\",\n",
    "    aspect=2,\n",
    ")\n",
    "\n",
    "sns.scatterplot(\n",
    "    data=data_real,\n",
    "    x=\"time\",\n",
    "    y=\"population\",\n",
    "    hue=\"status\",\n",
    "    ax=g.ax,\n",
    "    legend=False\n",
    ")\n",
    "\n",
    "\n",
    "(\n",
    "    g.set_axis_labels(\"Time\", \"Population\")\n",
    "      .set_titles(\"Zone {row_name}\")\n",
    "      .tight_layout(w_pad=1)\n",
    ")\n",
    "\n",
    "g._legend.set_title(\"Status\")\n",
    "g.fig.subplots_adjust(top=0.9)\n",
    "g.fig.suptitle(f\"SIRD model estimation\")\n",
    "# plt.savefig(\"SIRD_estimation.png\", dpi=300)\n",
    "plt.show()"
   ]
  },
  {
   "cell_type": "code",
   "execution_count": 12,
   "id": "a63ce1b7",
   "metadata": {},
   "outputs": [
    {
     "name": "stderr",
     "output_type": "stream",
     "text": [
      "2022-10-25 15:52:30.714817: I tensorflow/stream_executor/cuda/cuda_blas.cc:1786] TensorFloat-32 will be used for the matrix multiplication. This will only be logged once.\n"
     ]
    },
    {
     "data": {
      "text/plain": [
       "0.00021556360117540595"
      ]
     },
     "execution_count": 12,
     "metadata": {},
     "output_type": "execute_result"
    }
   ],
   "source": [
    "dde.metrics.l2_relative_error(y, model.predict(t))"
   ]
  },
  {
   "cell_type": "code",
   "execution_count": 13,
   "id": "5d7ba8fe",
   "metadata": {},
   "outputs": [
    {
     "data": {
      "text/plain": [
       "5660.3504041675305"
      ]
     },
     "execution_count": 13,
     "metadata": {},
     "output_type": "execute_result"
    }
   ],
   "source": [
    "dde.metrics.mean_squared_error(y, model.predict(t))"
   ]
  }
 ],
 "metadata": {
  "kernelspec": {
   "display_name": "Python 3.9.13 ('pinn')",
   "language": "python",
   "name": "python3"
  },
  "language_info": {
   "codemirror_mode": {
    "name": "ipython",
    "version": 3
   },
   "file_extension": ".py",
   "mimetype": "text/x-python",
   "name": "python",
   "nbconvert_exporter": "python",
   "pygments_lexer": "ipython3",
   "version": "3.9.13"
  },
  "orig_nbformat": 4,
  "vscode": {
   "interpreter": {
    "hash": "b495ef8c557e1213b070efa440d5756e52b9d742e01b39c369ce0fdb1e54097c"
   }
  }
 },
 "nbformat": 4,
 "nbformat_minor": 2
}
