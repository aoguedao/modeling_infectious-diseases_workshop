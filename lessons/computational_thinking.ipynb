{
  "cells": [
    {
      "cell_type": "markdown",
      "metadata": {
        "id": "6l5LLxDZV2mb"
      },
      "source": [
        "# Introduction to Computational Thinking"
      ]
    },
    {
      "cell_type": "code",
      "execution_count": null,
      "metadata": {
        "id": "AjvANeWrAZmu"
      },
      "outputs": [],
      "source": [
        "#these two lines will not change throughout the year\n",
        "import pandas as pd\n",
        "import matplotlib.pyplot as plt\n",
        "diamonds_df=pd.read_csv(\"https://raw.githubusercontent.com/aoguedao/modeling_infectious_diseases_workshop/main/data/Diamond%20Prices%202022.csv\")"
      ]
    },
    {
      "cell_type": "code",
      "execution_count": null,
      "metadata": {
        "id": "3zz_JMp9CnGj"
      },
      "outputs": [],
      "source": [
        "#prints the first 5 rows of the dataframe\n",
        "print(diamonds_df.head())\n",
        "#prints the number of columns, attribute headers, data types, and the number of cells in each column (non-null values)\n",
        "print(diamonds_df.info())\n",
        "#prints the measures of central tendency for each numerical attribute\n",
        "print(diamonds_df.describe())\n",
        "#removes the rows that contain NULL values\n",
        "diamonds_df = diamonds_df.dropna()\n"
      ]
    },
    {
      "cell_type": "code",
      "execution_count": null,
      "metadata": {
        "id": "jGxrEuH6Dywl"
      },
      "outputs": [],
      "source": [
        "#pulls off the price column of the data frame\n",
        "all_prices = diamonds_df['price']\n",
        "#print(all_prices)\n",
        "all_carats = diamonds_df['carat']\n",
        "plt.hist(all_carats)\n",
        "plt.title('Carats of Diamonds');\n",
        "plt.show()"
      ]
    },
    {
      "cell_type": "code",
      "execution_count": null,
      "metadata": {
        "id": "aDPsQISEEgEz"
      },
      "outputs": [],
      "source": [
        "#scatter plot\n",
        "plt.scatter(all_carats, all_prices)\n",
        "plt.title(\"Diamond Carats and their Impact on Prices 2022\")\n",
        "plt.xlabel('Carats')\n",
        "plt.ylabel('Prices')\n",
        "plt.show()"
      ]
    },
    {
      "cell_type": "code",
      "execution_count": null,
      "metadata": {
        "id": "auVlbpdwExfb"
      },
      "outputs": [],
      "source": [
        "#pie chart\n",
        "all_cuts = diamonds_df['cut']\n",
        "\n",
        "all_cuts.value_counts().plot(kind = 'pie')\n",
        "plt.title(\"Diamond Cuts 2022\")\n",
        "plt.show()"
      ]
    },
    {
      "cell_type": "code",
      "execution_count": null,
      "metadata": {
        "colab": {
          "base_uri": "https://localhost:8080/",
          "height": 281
        },
        "id": "xYvQTum-FEB-",
        "outputId": "f4c0e5a6-305f-4ca9-c981-873d37425ba7"
      },
      "outputs": [],
      "source": [
        "#storing only the fair cut diamonds\n",
        "fair = diamonds_df[diamonds_df['cut'] == 'Fair']\n",
        "#storing only the good cut diamonds\n",
        "good = diamonds_df[diamonds_df['cut'] == \"Good\"]\n",
        "#storing only the ideal cut diamonds\n",
        "ideal = diamonds_df[diamonds_df['cut'] == 'Ideal']\n",
        "#storing only the premium cut diamonds\n",
        "premium = diamonds_df[diamonds_df['cut']== 'Premium']\n",
        "#storing only the very good cut diamonds\n",
        "verygood = diamonds_df[diamonds_df['cut'] == 'Very Good']\n",
        "\n",
        "#plotting the multi-variables on a scatter plot\n",
        "plt.scatter(verygood['carat'], verygood['price'], edgecolor = \"black\")\n",
        "plt.scatter(premium['carat'], premium['price'])\n",
        "plt.scatter(ideal['carat'], ideal['price'])\n",
        "plt.scatter(good['carat'], good['price'])\n",
        "plt.scatter(fair['carat'], fair['price'])\n",
        "\n",
        "plt.title('Diamond Prices 2022')\n",
        "plt.show()"
      ]
    }
  ],
  "metadata": {
    "colab": {
      "collapsed_sections": [],
      "provenance": []
    },
    "kernelspec": {
      "display_name": "Python 3.9.13 ('pinn')",
      "language": "python",
      "name": "python3"
    },
    "language_info": {
      "codemirror_mode": {
        "name": "ipython",
        "version": 3
      },
      "file_extension": ".py",
      "mimetype": "text/x-python",
      "name": "python",
      "nbconvert_exporter": "python",
      "pygments_lexer": "ipython3",
      "version": "3.9.13"
    },
    "vscode": {
      "interpreter": {
        "hash": "b495ef8c557e1213b070efa440d5756e52b9d742e01b39c369ce0fdb1e54097c"
      }
    }
  },
  "nbformat": 4,
  "nbformat_minor": 0
}
